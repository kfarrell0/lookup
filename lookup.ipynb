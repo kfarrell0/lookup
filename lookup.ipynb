{
 "cells": [
  {
   "cell_type": "code",
   "execution_count": 2,
   "id": "cf81462e",
   "metadata": {},
   "outputs": [],
   "source": [
    "import pandas as pd\n",
    "from openpyxl import load_workbook"
   ]
  },
  {
   "cell_type": "code",
   "execution_count": 7,
   "id": "bc741d15",
   "metadata": {},
   "outputs": [
    {
     "data": {
      "text/html": [
       "<div>\n",
       "<style scoped>\n",
       "    .dataframe tbody tr th:only-of-type {\n",
       "        vertical-align: middle;\n",
       "    }\n",
       "\n",
       "    .dataframe tbody tr th {\n",
       "        vertical-align: top;\n",
       "    }\n",
       "\n",
       "    .dataframe thead th {\n",
       "        text-align: right;\n",
       "    }\n",
       "</style>\n",
       "<table border=\"1\" class=\"dataframe\">\n",
       "  <thead>\n",
       "    <tr style=\"text-align: right;\">\n",
       "      <th></th>\n",
       "      <th>ID</th>\n",
       "      <th>Report 1 ID</th>\n",
       "      <th>First Report Name</th>\n",
       "      <th>Report 2 ID</th>\n",
       "      <th>Second Report Name</th>\n",
       "      <th>Commonality</th>\n",
       "      <th>Identical</th>\n",
       "    </tr>\n",
       "  </thead>\n",
       "  <tbody>\n",
       "    <tr>\n",
       "      <th>0</th>\n",
       "      <td>270</td>\n",
       "      <td>338</td>\n",
       "      <td>PersonalFolders  v3 - copiedByUser1</td>\n",
       "      <td>340</td>\n",
       "      <td>SamplePersonalReport01</td>\n",
       "      <td>50</td>\n",
       "      <td>False</td>\n",
       "    </tr>\n",
       "    <tr>\n",
       "      <th>1</th>\n",
       "      <td>271</td>\n",
       "      <td>338</td>\n",
       "      <td>PersonalFolders  v3 - copiedByUser1</td>\n",
       "      <td>337</td>\n",
       "      <td>PersonalFolders  v2 - monish</td>\n",
       "      <td>96</td>\n",
       "      <td>True</td>\n",
       "    </tr>\n",
       "    <tr>\n",
       "      <th>2</th>\n",
       "      <td>272</td>\n",
       "      <td>338</td>\n",
       "      <td>PersonalFolders  v3 - copiedByUser1</td>\n",
       "      <td>333</td>\n",
       "      <td>PersonalFolders  v1 - monish</td>\n",
       "      <td>96</td>\n",
       "      <td>True</td>\n",
       "    </tr>\n",
       "    <tr>\n",
       "      <th>3</th>\n",
       "      <td>273</td>\n",
       "      <td>344</td>\n",
       "      <td>Complexity v2</td>\n",
       "      <td>345</td>\n",
       "      <td>Demo 02 - Custom LOV</td>\n",
       "      <td>50</td>\n",
       "      <td>False</td>\n",
       "    </tr>\n",
       "    <tr>\n",
       "      <th>4</th>\n",
       "      <td>274</td>\n",
       "      <td>330</td>\n",
       "      <td>Sample01-WordCloud : 642380</td>\n",
       "      <td>334</td>\n",
       "      <td>Sample01-WordCloud</td>\n",
       "      <td>96</td>\n",
       "      <td>True</td>\n",
       "    </tr>\n",
       "    <tr>\n",
       "      <th>5</th>\n",
       "      <td>275</td>\n",
       "      <td>331</td>\n",
       "      <td>Test - Medium : 643393</td>\n",
       "      <td>332</td>\n",
       "      <td>Test - Simple : 643389</td>\n",
       "      <td>82</td>\n",
       "      <td>False</td>\n",
       "    </tr>\n",
       "    <tr>\n",
       "      <th>6</th>\n",
       "      <td>276</td>\n",
       "      <td>331</td>\n",
       "      <td>Test - Medium : 643393</td>\n",
       "      <td>341</td>\n",
       "      <td>CITI - Medium</td>\n",
       "      <td>96</td>\n",
       "      <td>True</td>\n",
       "    </tr>\n",
       "    <tr>\n",
       "      <th>7</th>\n",
       "      <td>277</td>\n",
       "      <td>340</td>\n",
       "      <td>SamplePersonalReport01</td>\n",
       "      <td>337</td>\n",
       "      <td>PersonalFolders  v2 - monish</td>\n",
       "      <td>50</td>\n",
       "      <td>False</td>\n",
       "    </tr>\n",
       "    <tr>\n",
       "      <th>8</th>\n",
       "      <td>278</td>\n",
       "      <td>340</td>\n",
       "      <td>SamplePersonalReport01</td>\n",
       "      <td>333</td>\n",
       "      <td>PersonalFolders  v1 - monish</td>\n",
       "      <td>50</td>\n",
       "      <td>False</td>\n",
       "    </tr>\n",
       "    <tr>\n",
       "      <th>9</th>\n",
       "      <td>279</td>\n",
       "      <td>332</td>\n",
       "      <td>Test - Simple : 643389</td>\n",
       "      <td>341</td>\n",
       "      <td>CITI - Medium</td>\n",
       "      <td>82</td>\n",
       "      <td>False</td>\n",
       "    </tr>\n",
       "    <tr>\n",
       "      <th>10</th>\n",
       "      <td>280</td>\n",
       "      <td>337</td>\n",
       "      <td>PersonalFolders  v2 - monish</td>\n",
       "      <td>333</td>\n",
       "      <td>PersonalFolders  v1 - monish</td>\n",
       "      <td>96</td>\n",
       "      <td>True</td>\n",
       "    </tr>\n",
       "    <tr>\n",
       "      <th>11</th>\n",
       "      <td>281</td>\n",
       "      <td>335</td>\n",
       "      <td>Sample01</td>\n",
       "      <td>329</td>\n",
       "      <td>Recast_UseCase02 : 632214</td>\n",
       "      <td>50</td>\n",
       "      <td>False</td>\n",
       "    </tr>\n",
       "  </tbody>\n",
       "</table>\n",
       "</div>"
      ],
      "text/plain": [
       "     ID  Report 1 ID                    First Report Name  Report 2 ID  \\\n",
       "0   270          338  PersonalFolders  v3 - copiedByUser1          340   \n",
       "1   271          338  PersonalFolders  v3 - copiedByUser1          337   \n",
       "2   272          338  PersonalFolders  v3 - copiedByUser1          333   \n",
       "3   273          344                        Complexity v2          345   \n",
       "4   274          330          Sample01-WordCloud : 642380          334   \n",
       "5   275          331               Test - Medium : 643393          332   \n",
       "6   276          331               Test - Medium : 643393          341   \n",
       "7   277          340               SamplePersonalReport01          337   \n",
       "8   278          340               SamplePersonalReport01          333   \n",
       "9   279          332               Test - Simple : 643389          341   \n",
       "10  280          337         PersonalFolders  v2 - monish          333   \n",
       "11  281          335                             Sample01          329   \n",
       "\n",
       "              Second Report Name  Commonality  Identical  \n",
       "0         SamplePersonalReport01           50      False  \n",
       "1   PersonalFolders  v2 - monish           96       True  \n",
       "2   PersonalFolders  v1 - monish           96       True  \n",
       "3           Demo 02 - Custom LOV           50      False  \n",
       "4             Sample01-WordCloud           96       True  \n",
       "5         Test - Simple : 643389           82      False  \n",
       "6                  CITI - Medium           96       True  \n",
       "7   PersonalFolders  v2 - monish           50      False  \n",
       "8   PersonalFolders  v1 - monish           50      False  \n",
       "9                  CITI - Medium           82      False  \n",
       "10  PersonalFolders  v1 - monish           96       True  \n",
       "11     Recast_UseCase02 : 632214           50      False  "
      ]
     },
     "execution_count": 7,
     "metadata": {},
     "output_type": "execute_result"
    }
   ],
   "source": [
    "pd.read_excel(\"personal_bulk_task.xlsx\", sheet_name=\"Commonality\")"
   ]
  },
  {
   "cell_type": "code",
   "execution_count": 16,
   "id": "db5fe7f9",
   "metadata": {},
   "outputs": [],
   "source": [
    "def lookup(file_name, value, col_find, col_give, sheet_id=0, minrow = 0, maxrow = -1, colnumber = False):\n",
    "    \"\"\"attempts to find the passed value in the column col_find within the spreadsheet, and when it does, returns\n",
    "       a list of the corresponding values in the same row within col_give. sheet_id can be either the name of a \n",
    "       page in the spreadsheet, or else a 0-indexed number of that page. when colnumber is true, it uses 0-indexed\n",
    "       IDs for the columns instead of the column names (like VLOOKUP). minrow is exclusive and maxrow is exclusive,\n",
    "       based on a 0-indexed list of the rows starting with the first data row\"\"\"\n",
    "    \n",
    "    df = pd.read_excel(file_name, sheet_id) #data frame of the relevant sheet\n",
    "    \n",
    "    if(colnumber):\n",
    "        col_find = df.columns[col_find]\n",
    "        col_give = df.columns[col_give]\n",
    "    cf = df[col_find]\n",
    "    if(maxrow < 0):\n",
    "        maxrow = cf.size\n",
    "    found_rows = []\n",
    "    for i in range(minrow, maxrow):\n",
    "        if(str(cf[i]) == str(value)): #if the string version of a column value in the lookup column is the same as the\n",
    "            found_rows += [i]         #string version of the passed value, take note of the row\n",
    "            #print(str(cf[i]), str(value), str(cf[i] == str(value)))\n",
    "    cg = df[col_give]\n",
    "    ret_values = [cg[v] for v in found_rows]\n",
    "    return ret_values"
   ]
  },
  {
   "cell_type": "code",
   "execution_count": 17,
   "id": "fd46d284",
   "metadata": {
    "scrolled": true
   },
   "outputs": [
    {
     "data": {
      "text/plain": [
       "['Test - Simple : 643389', 'CITI - Medium']"
      ]
     },
     "execution_count": 17,
     "metadata": {},
     "output_type": "execute_result"
    }
   ],
   "source": [
    "lookup(\"personal_bulk_task.xlsx\", 331, \"Report 1 ID\", \"Second Report Name\", \"Commonality\")"
   ]
  },
  {
   "cell_type": "code",
   "execution_count": 18,
   "id": "732462da",
   "metadata": {
    "scrolled": true
   },
   "outputs": [
    {
     "data": {
      "text/plain": [
       "['Test - Simple : 643389', 'CITI - Medium']"
      ]
     },
     "execution_count": 18,
     "metadata": {},
     "output_type": "execute_result"
    }
   ],
   "source": [
    "lookup(\"personal_bulk_task.xlsx\", 331, 1, 4, 1, colnumber = True)"
   ]
  },
  {
   "cell_type": "code",
   "execution_count": 19,
   "id": "eb9750a0",
   "metadata": {},
   "outputs": [
    {
     "data": {
      "text/plain": [
       "['My Folders/user1/Bulk Upload Test/CITI - Medium']"
      ]
     },
     "execution_count": 19,
     "metadata": {},
     "output_type": "execute_result"
    }
   ],
   "source": [
    "lookup(\"personal_bulk_task.xlsx\", 643376, \"Report ID\", \"Report Path\", 3)"
   ]
  },
  {
   "cell_type": "code",
   "execution_count": 20,
   "id": "0924807d",
   "metadata": {},
   "outputs": [
    {
     "data": {
      "text/plain": [
       "['Inbox/recast_monish/Recast_UseCase02 : 632214',\n",
       " 'Inbox/recast_monish/Sample01-WordCloud : 642380',\n",
       " 'Inbox/recast_monish/Test - Medium : 643393',\n",
       " 'Inbox/user1/Test - Simple : 643389']"
      ]
     },
     "execution_count": 20,
     "metadata": {},
     "output_type": "execute_result"
    }
   ],
   "source": [
    "lookup(\"personal_bulk_task.xlsx\", 41, \"Analyzer Task ID\", \"Folder Path\", \"Task Details\", maxrow = 4)"
   ]
  },
  {
   "cell_type": "code",
   "execution_count": null,
   "id": "44f80251",
   "metadata": {},
   "outputs": [],
   "source": []
  }
 ],
 "metadata": {
  "kernelspec": {
   "display_name": "Python 3 (ipykernel)",
   "language": "python",
   "name": "python3"
  },
  "language_info": {
   "codemirror_mode": {
    "name": "ipython",
    "version": 3
   },
   "file_extension": ".py",
   "mimetype": "text/x-python",
   "name": "python",
   "nbconvert_exporter": "python",
   "pygments_lexer": "ipython3",
   "version": "3.11.4"
  }
 },
 "nbformat": 4,
 "nbformat_minor": 5
}
